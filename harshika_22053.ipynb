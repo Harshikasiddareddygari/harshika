{
  "nbformat": 4,
  "nbformat_minor": 0,
  "metadata": {
    "colab": {
      "provenance": []
    },
    "kernelspec": {
      "name": "python3",
      "display_name": "Python 3"
    },
    "language_info": {
      "name": "python"
    }
  },
  "cells": [
    {
      "cell_type": "code",
      "execution_count": 6,
      "metadata": {
        "colab": {
          "base_uri": "https://localhost:8080/"
        },
        "id": "NUeGFvn3AKF3",
        "outputId": "c2e3fb80-a8ed-4bc3-fe3f-9f9fb555ac9f"
      },
      "outputs": [
        {
          "output_type": "stream",
          "name": "stdout",
          "text": [
            "Number of pairs with sum 10: 2\n"
          ]
        }
      ],
      "source": [
        "#Consider the given list as [2,7,4,1,3,6].Write a program to count pairs of elements with sum equal to 10.\n",
        "def find_pairs(arr, target_sum):\n",
        "    pairs = []\n",
        "    seen_numbers = set()\n",
        "\n",
        "    for num in arr:\n",
        "        complement = target_sum - num\n",
        "        if complement in seen_numbers:\n",
        "            pairs.append((num, complement))\n",
        "        seen_numbers.add(num)\n",
        "    return pairs\n",
        "\n",
        "def count_pairs(arr, target_sum):\n",
        "    pairs = find_pairs(arr, target_sum)\n",
        "    return len(pairs)\n",
        "\n",
        "def main():\n",
        "  #input list\n",
        "    input_list = [2, 7, 4, 1, 3, 6]\n",
        "    #target sum\n",
        "    target_sum = 10\n",
        "    result = count_pairs(input_list, target_sum)\n",
        "    print(f\"Number of pairs with sum {target_sum}: {result}\")\n",
        "\n",
        "if __name__ == \"__main__\":\n",
        "    main()\n"
      ]
    },
    {
      "cell_type": "code",
      "source": [
        "#Write a program that takes a list of real numbers as input and returns the range(difference between minimum and maximum) of the list.Check for list being less than 3 elements in which case return an error message(Ex: “Range determination not possible”).Given a list[5,3,8,1,0,4],therange is 8(8-0).\n",
        "\n",
        "def calculate_range(numbers):\n",
        "    if len(numbers) < 3:\n",
        "        raise ValueError(\"Range determination not possible\")\n",
        "    min_num = min(numbers)\n",
        "    max_num = max(numbers)\n",
        "    range_value = max_num - min_num\n",
        "\n",
        "    return range_value\n",
        "\n",
        "\n",
        "def main():\n",
        "    # Input list\n",
        "    input_list = [5, 3, 8, 1, 0, 4]\n",
        "\n",
        "    try:\n",
        "        # Calculating the range\n",
        "        result = calculate_range(input_list)\n",
        "        # Printing the result\n",
        "        print(f\"The range of the list is: {result}\")\n",
        "    except ValueError as e:\n",
        "\n",
        "        print(f\"Error: {e}\")\n",
        "\n",
        "\n",
        "\n",
        "if __name__ == \"__main__\":\n",
        "    main()\n",
        "\n"
      ],
      "metadata": {
        "colab": {
          "base_uri": "https://localhost:8080/"
        },
        "id": "2UVpXehDC8q0",
        "outputId": "39b098e4-b8b4-4ccf-c81b-254e67ecb3f3"
      },
      "execution_count": 7,
      "outputs": [
        {
          "output_type": "stream",
          "name": "stdout",
          "text": [
            "The range of the list is: 8\n"
          ]
        }
      ]
    },
    {
      "cell_type": "code",
      "source": [
        "#Write a program that accepts a square matrix A and a positive integer m as arguments and returns Am.\n",
        "def matrix_multiply(A, B):\n",
        "    result = []\n",
        "    for i in range(len(A)):\n",
        "        row = []\n",
        "        for j in range(len(B[0])):\n",
        "            total = 0\n",
        "            for k in range(len(B)):\n",
        "                total += A[i][k] * B[k][j]\n",
        "            row.append(total)\n",
        "        result.append(row)\n",
        "    return result\n",
        "\n",
        "def matrix_power(A, m):\n",
        "    result = A\n",
        "    for _ in range(m - 1):\n",
        "        result = matrix_multiply(result, A)\n",
        "    return result\n",
        "\n",
        "if __name__ == \"__main__\":\n",
        "    # square matrix A\n",
        "    matrix_A = [[1, 2], [3, 4]]\n",
        "\n",
        "    # Positive integer m\n",
        "    power_m = 3\n",
        "\n",
        "    # Calculating  A^m\n",
        "    result_matrix = matrix_power(matrix_A, power_m)\n",
        "\n",
        "    # Printing the result\n",
        "    print(f\"matrix A raised to the power of {power_m}:\\n{result_matrix}\")\n"
      ],
      "metadata": {
        "colab": {
          "base_uri": "https://localhost:8080/"
        },
        "id": "mWdy11XAIQyh",
        "outputId": "dd8929e0-850c-490e-fe55-d8593879bab7"
      },
      "execution_count": 11,
      "outputs": [
        {
          "output_type": "stream",
          "name": "stdout",
          "text": [
            "matrix A raised to the power of 3:\n",
            "[[37, 54], [81, 118]]\n"
          ]
        }
      ]
    },
    {
      "cell_type": "code",
      "source": [
        "#Write a program to count the highest occurring character & its occurrence count in an inputstring. Consideronly alphabets. Ex:  for “hippopotamus”as inputstring, the maximally occurring character is ‘p’& occurrence count is 3.\n",
        "\n",
        "def count_alphabet_occurrences(input_string):\n",
        "\n",
        "    alphabet_counts = {}\n",
        "    for char in input_string:\n",
        "        if char.isalpha():\n",
        "            char = char.lower()  #\n",
        "            alphabet_counts[char] = alphabet_counts.get(char, 0) + 1\n",
        "    return alphabet_counts\n",
        "\n",
        "def find_max_occurrence(alphabet_counts):\n",
        "\n",
        "    max_char = max(alphabet_counts, key=alphabet_counts.get)\n",
        "    max_count = alphabet_counts[max_char]\n",
        "    return max_char, max_count\n",
        "\n",
        "if __name__ == \"__main__\":\n",
        "    # input string\n",
        "    input_str = \"hippopotamus\"\n",
        "\n",
        "    # Count alphabet\n",
        "    alphabet_counts = count_alphabet_occurrences(input_str)\n",
        "\n",
        "    #  alphabet with the highest occurrence and count\n",
        "    max_char, max_count = find_max_occurrence(alphabet_counts)\n",
        "\n",
        "    # Print the result\n",
        "    print(f\"The maximally occurring character is '{max_char}' with occurrence count {max_count}.\")\n",
        "\n"
      ],
      "metadata": {
        "colab": {
          "base_uri": "https://localhost:8080/"
        },
        "id": "iit7RT5zG7wr",
        "outputId": "0b925737-967e-4f76-80d3-a788c5dcbd11"
      },
      "execution_count": 10,
      "outputs": [
        {
          "output_type": "stream",
          "name": "stdout",
          "text": [
            "The maximally occurring character is 'p' with occurrence count 3.\n"
          ]
        }
      ]
    }
  ]
}