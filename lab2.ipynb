{
  "nbformat": 4,
  "nbformat_minor": 0,
  "metadata": {
    "colab": {
      "provenance": []
    },
    "kernelspec": {
      "name": "python3",
      "display_name": "Python 3"
    },
    "language_info": {
      "name": "python"
    }
  },
  "cells": [
    {
      "cell_type": "code",
      "execution_count": 1,
      "metadata": {
        "colab": {
          "base_uri": "https://localhost:8080/"
        },
        "id": "ZWthXk-sFtK4",
        "outputId": "0021364e-437e-40e3-ce61-023f0ff5589d"
      },
      "outputs": [
        {
          "output_type": "stream",
          "name": "stdout",
          "text": [
            "Enter values for vector A (comma-separated): 5,4,3,2,1\n",
            "Enter values for vector B (comma-separated): 4,3,2,1,0\n",
            "Euclidean Distance: 2.23606797749979\n",
            "Manhattan Distance: 5.0\n"
          ]
        }
      ],
      "source": [
        "#Write a function to calculate the Euclidean distance and Manhattan distance between two vectors. The vectors dimension is variable. Please don’t use any distance calculation functions available in Python.\n",
        "\n",
        "import math\n",
        "\n",
        "# Function to calculate Euclidean distance between two vectors\n",
        "def euclidean_distance(vector1, vector2):\n",
        "    if len(vector1) != len(vector2):\n",
        "        raise ValueError(\"Vectors must have the same dimension\")\n",
        "    sum_of_squares = sum((v1 - v2) ** 2 for v1, v2 in zip(vector1, vector2))\n",
        "    return math.sqrt(sum_of_squares)\n",
        "\n",
        "# Function to calculate Manhattan distance between two vectors\n",
        "def manhattan_distance(vector1, vector2):\n",
        "    if len(vector1) != len(vector2):\n",
        "        raise ValueError(\"Vectors must have the same dimension\")\n",
        "    sum_of_absolute_differences = sum(abs(v1 - v2) for v1, v2 in zip(vector1, vector2))\n",
        "    return sum_of_absolute_differences\n",
        "\n",
        "# Function to get user input for two vectors\n",
        "def get_user_input():\n",
        "    vector_a = [float(x) for x in input(\"Enter values for vector A (comma-separated): \").split(',')]\n",
        "    vector_b = [float(x) for x in input(\"Enter values for vector B (comma-separated): \").split(',')]\n",
        "    return vector_a, vector_b\n",
        "\n",
        "# Main execution block\n",
        "if __name__ == \"__main__\":\n",
        "    # Get user input for two vectors\n",
        "    vector_a, vector_b = get_user_input()\n",
        "\n",
        "    # Calculate Euclidean distance\n",
        "    euclidean_dist = euclidean_distance(vector_a, vector_b)\n",
        "    print(f\"Euclidean Distance: {euclidean_dist}\")\n",
        "\n",
        "    # Calculate Manhattan distance\n",
        "    manhattan_dist = manhattan_distance(vector_a, vector_b)\n",
        "    print(f\"Manhattan Distance: {manhattan_dist}\")\n"
      ]
    },
    {
      "cell_type": "code",
      "source": [
        "#Write a function to implement k-NN classifier. k is a variable and based on that the count of neighbors should be selected.\n",
        "def euclidean_distance(point1, point2):\n",
        "    return ((point1[0] - point2[0]) ** 2 + (point1[1] - point2[1]) ** 2) ** 0.5\n",
        "\n",
        "def find_neighbors(training_data, labels, test_point, k):\n",
        "    distances = [(i, euclidean_distance(test_point, data_point)) for i, data_point in enumerate(training_data)]\n",
        "    distances.sort(key=lambda x: x[1])\n",
        "    k_nearest_neighbors = distances[:k]\n",
        "    neighbor_labels = [labels[i] for i, _ in k_nearest_neighbors]\n",
        "    return neighbor_labels\n",
        "\n",
        "def kNN_classifier(training_data, labels, test_point, k):\n",
        "    neighbor_labels = find_neighbors(training_data, labels, test_point, k)\n",
        "    predicted_label = max(set(neighbor_labels), key=neighbor_labels.count)\n",
        "    return predicted_label\n",
        "\n",
        "if __name__ == \"__main__\":\n",
        "    # Example usage\n",
        "    training_data = [[1, 2], [2, 3], [3, 4], [4, 5]]\n",
        "    labels = ['A', 'A', 'B', 'B']\n",
        "    test_point = [2.5, 3.5]\n",
        "    k = 3\n",
        "\n",
        "    # Predict the label for the test point using kNN classifier\n",
        "    predicted_label = kNN_classifier(training_data, labels, test_point, k)\n",
        "    print(f\"Predicted Label: {predicted_label}\")\n"
      ],
      "metadata": {
        "colab": {
          "base_uri": "https://localhost:8080/"
        },
        "id": "NkNp6uHjJ81m",
        "outputId": "291b349c-8d6d-4928-f1eb-f49a13ac4970"
      },
      "execution_count": null,
      "outputs": [
        {
          "output_type": "stream",
          "name": "stdout",
          "text": [
            "Predicted Label: A\n"
          ]
        }
      ]
    },
    {
      "cell_type": "code",
      "source": [
        "#Write a function to convert categorical variables to numeric using label encoding. Don’t use any existing functionalities.\n",
        "# Function to label encode a categorical column in a DataFrame\n",
        "def label_encode_categorical(data, column_name):\n",
        "    # Get unique labels in the specified column\n",
        "    unique_labels = list(set(data[column_name]))\n",
        "\n",
        "    # Create a label encoder dictionary mapping labels to numerical indices\n",
        "    label_encoder = {label: idx for idx, label in enumerate(unique_labels)}\n",
        "\n",
        "    # Replace categorical values in the specified column with numerical labels\n",
        "    data[column_name] = [label_encoder[label] for label in data[column_name]]\n",
        "\n",
        "    # Return the modified DataFrame and the label encoder dictionary\n",
        "    return data, label_encoder\n",
        "\n",
        "# Main function for demonstration\n",
        "def main():\n",
        "    # Sample data as a dictionary\n",
        "    my_data = {\n",
        "        \"Gender\": ['F', 'M', 'M', 'F', 'M', 'F', 'M', 'F', 'F', 'M'],\n",
        "        \"Name\": ['Cindy', 'Carl', 'Johnny', 'Stacey', 'Andy', 'Sara', 'Victor', 'Martha', 'Mindy', 'Max']\n",
        "    }\n",
        "\n",
        "    # Display original data\n",
        "    print(\"Original Data:\\n\")\n",
        "    for key, values in my_data.items():\n",
        "        print(f\"{key}: {values}\")\n",
        "\n",
        "    # Apply label encoding to the 'Gender' column\n",
        "    my_data, label_encoder = label_encode_categorical(my_data, 'Gender')\n",
        "\n",
        "    # Display unique labels after encoding\n",
        "    print(\"\\nUnique Labels:\", set(my_data['Gender']))\n",
        "\n",
        "    # Display data after label encoding\n",
        "    print(\"\\nData after Label Encoding:\\n\")\n",
        "    for key, values in my_data.items():\n",
        "        print(f\"{key}: {values}\")\n",
        "\n",
        "# Execute the main function if the script is run directly\n",
        "if __name__ == \"__main__\":\n",
        "    main()\n",
        "\n",
        "\n",
        "\n",
        "\n"
      ],
      "metadata": {
        "colab": {
          "base_uri": "https://localhost:8080/"
        },
        "id": "kn23x3stLOxc",
        "outputId": "e965a148-ca6f-4ad7-985f-db7ba8d83a49"
      },
      "execution_count": null,
      "outputs": [
        {
          "output_type": "stream",
          "name": "stdout",
          "text": [
            "Original Data:\n",
            "\n",
            "Gender: ['F', 'M', 'M', 'F', 'M', 'F', 'M', 'F', 'F', 'M']\n",
            "Name: ['Cindy', 'Carl', 'Johnny', 'Stacey', 'Andy', 'Sara', 'Victor', 'Martha', 'Mindy', 'Max']\n",
            "\n",
            "Unique Labels: {0, 1}\n",
            "\n",
            "Data after Label Encoding:\n",
            "\n",
            "Gender: [0, 1, 1, 0, 1, 0, 1, 0, 0, 1]\n",
            "Name: ['Cindy', 'Carl', 'Johnny', 'Stacey', 'Andy', 'Sara', 'Victor', 'Martha', 'Mindy', 'Max']\n"
          ]
        }
      ]
    },
    {
      "cell_type": "code",
      "source": [
        "#Write a function to convert categorical variables to numeric using One-Hotencoding. Don’t use any existing functionalities.\n",
        "# Import the pandas library and alias it as pd\n",
        "import pandas as pd\n",
        "\n",
        "# Function to perform one-hot encoding on a categorical column in a DataFrame\n",
        "def one_hot_encode_categorical(dataframe, column_name):\n",
        "    # Get unique categories in the specified column\n",
        "    unique_categories = list(set(dataframe[column_name]))\n",
        "\n",
        "    # Iterate through unique categories and create new binary columns\n",
        "    for category in unique_categories:\n",
        "        # Generate a new column name based on the original column and category\n",
        "        new_column_name = f\"{column_name}_{category}\"\n",
        "\n",
        "        # Create a new binary column indicating the presence of the category\n",
        "        dataframe[new_column_name] = (dataframe[column_name] == category).astype(int)\n",
        "\n",
        "\n",
        "    dataframe = dataframe.drop(column_name, axis=1)\n",
        "\n",
        "\n",
        "    return dataframe\n",
        "\n",
        "my_data = {\n",
        "    'fruit_list': ['Apple', 'Banana', 'Orange', 'Grape', 'Kiwi'],\n",
        "    'quantity_list': [120, 85, 150, 50, 75],\n",
        "    'category': ['A', 'B', 'A', 'C', 'B']\n",
        "}\n",
        "\n",
        "\n",
        "blk = pd.DataFrame(my_data)\n",
        "\n",
        "\n",
        "print(\"Original DataFrame:\\n\")\n",
        "print(blk)\n",
        "\n",
        "blk = one_hot_encode_categorical(blk, 'category')\n",
        "\n",
        "# Display the DataFrame after one-hot encoding\n",
        "print(\"\\nDataFrame after One-Hot Encoding:\\n\")\n",
        "print(blk)\n",
        "\n",
        "\n"
      ],
      "metadata": {
        "colab": {
          "base_uri": "https://localhost:8080/"
        },
        "id": "hka_JU7WQoyc",
        "outputId": "407a35b8-c78a-4660-c547-5748d71d189e"
      },
      "execution_count": null,
      "outputs": [
        {
          "output_type": "stream",
          "name": "stdout",
          "text": [
            "Original DataFrame:\n",
            "\n",
            "  fruit_list  quantity_list category\n",
            "0      Apple            120        A\n",
            "1     Banana             85        B\n",
            "2     Orange            150        A\n",
            "3      Grape             50        C\n",
            "4       Kiwi             75        B\n",
            "\n",
            "DataFrame after One-Hot Encoding:\n",
            "\n",
            "  fruit_list  quantity_list  category_C  category_B  category_A\n",
            "0      Apple            120           0           0           1\n",
            "1     Banana             85           0           1           0\n",
            "2     Orange            150           0           0           1\n",
            "3      Grape             50           1           0           0\n",
            "4       Kiwi             75           0           1           0\n"
          ]
        }
      ]
    }
  ]
}