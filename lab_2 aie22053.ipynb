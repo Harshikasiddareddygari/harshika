{
  "nbformat": 4,
  "nbformat_minor": 0,
  "metadata": {
    "colab": {
      "provenance": []
    },
    "kernelspec": {
      "name": "python3",
      "display_name": "Python 3"
    },
    "language_info": {
      "name": "python"
    }
  },
  "cells": [
    {
      "cell_type": "code",
      "execution_count": 19,
      "metadata": {
        "colab": {
          "base_uri": "https://localhost:8080/"
        },
        "id": "ZWthXk-sFtK4",
        "outputId": "bf52ffe2-a4ae-4b2f-bc1d-ee9e1cca3067"
      },
      "outputs": [
        {
          "output_type": "stream",
          "name": "stdout",
          "text": [
            "Enter values for vector A (comma-separated): 1,2,3,4\n",
            "Enter values for vector B (comma-separated): 2,3,4,5\n",
            "Euclidean Distance: 2.0\n",
            "Manhattan Distance: 4.0\n"
          ]
        }
      ],
      "source": [
        "#Write a function to calculate the Euclidean distance and Manhattan distance between two vectors. The vectors dimension is variable. Please don’t use any distance calculation functions available in Python.\n",
        "\n",
        "import math\n",
        "\n",
        "def euclidean_distance(vector1, vector2):\n",
        "    if len(vector1) != len(vector2):\n",
        "        raise ValueError(\"Vectors must have the same dimension\")\n",
        "    sum_of_squares = sum((v1 - v2) ** 2 for v1, v2 in zip(vector1, vector2))\n",
        "    return math.sqrt(sum_of_squares)\n",
        "\n",
        "def manhattan_distance(vector1, vector2):\n",
        "    if len(vector1) != len(vector2):\n",
        "        raise ValueError(\"Vectors must have the same dimension\")\n",
        "    sum_of_absolute_differences = sum(abs(v1 - v2) for v1, v2 in zip(vector1, vector2))\n",
        "    return sum_of_absolute_differences\n",
        "\n",
        "def get_user_input():\n",
        "    vector_a = [float(x) for x in input(\"Enter values for vector A (comma-separated): \").split(',')]\n",
        "    vector_b = [float(x) for x in input(\"Enter values for vector B (comma-separated): \").split(',')]\n",
        "    return vector_a, vector_b\n",
        "\n",
        "if __name__ == \"__main__\":\n",
        "    vector_a, vector_b = get_user_input()\n",
        "\n",
        "    euclidean_dist = euclidean_distance(vector_a, vector_b)\n",
        "    print(f\"Euclidean Distance: {euclidean_dist}\")\n",
        "\n",
        "    manhattan_dist = manhattan_distance(vector_a, vector_b)\n",
        "    print(f\"Manhattan Distance: {manhattan_dist}\")\n"
      ]
    },
    {
      "cell_type": "code",
      "source": [
        "#Write a function to implement k-NN classifier. k is a variable and based on that the count of neighbors should be selected.\n",
        "def euclidean_distance(point1, point2):\n",
        "    return ((point1[0] - point2[0]) ** 2 + (point1[1] - point2[1]) ** 2) ** 0.5\n",
        "\n",
        "def find_neighbors(training_data, labels, test_point, k):\n",
        "    distances = [(i, euclidean_distance(test_point, data_point)) for i, data_point in enumerate(training_data)]\n",
        "    distances.sort(key=lambda x: x[1])\n",
        "    k_nearest_neighbors = distances[:k]\n",
        "    neighbor_labels = [labels[i] for i, _ in k_nearest_neighbors]\n",
        "    return neighbor_labels\n",
        "\n",
        "def kNN_classifier(training_data, labels, test_point, k):\n",
        "    neighbor_labels = find_neighbors(training_data, labels, test_point, k)\n",
        "    predicted_label = max(set(neighbor_labels), key=neighbor_labels.count)\n",
        "    return predicted_label\n",
        "\n",
        "if __name__ == \"__main__\":\n",
        "    training_data = [[1, 2], [2, 3], [3, 4], [4, 5]]\n",
        "    labels = ['A', 'A', 'B', 'B']\n",
        "    test_point = [2.5, 3.5]\n",
        "    k = 3\n",
        "\n",
        "    predicted_label = kNN_classifier(training_data, labels, test_point, k)\n",
        "    print(f\"Predicted Label: {predicted_label}\")\n",
        "\n",
        "\n",
        "\n"
      ],
      "metadata": {
        "colab": {
          "base_uri": "https://localhost:8080/"
        },
        "id": "NkNp6uHjJ81m",
        "outputId": "291b349c-8d6d-4928-f1eb-f49a13ac4970"
      },
      "execution_count": 26,
      "outputs": [
        {
          "output_type": "stream",
          "name": "stdout",
          "text": [
            "Predicted Label: A\n"
          ]
        }
      ]
    },
    {
      "cell_type": "code",
      "source": [
        "#Write a function to convert categorical variables to numeric using label encoding. Don’t use any existing functionalities.\n",
        "def label_encode_categorical(data, column_name):\n",
        "    unique_labels = list(set(data[column_name]))\n",
        "    label_encoder = {label: idx for idx, label in enumerate(unique_labels)}\n",
        "\n",
        "    data[column_name] = [label_encoder[label] for label in data[column_name]]\n",
        "    return data, label_encoder\n",
        "\n",
        "def main():\n",
        "    my_data = {\n",
        "        \"Gender\": ['F', 'M', 'M', 'F', 'M', 'F', 'M', 'F', 'F', 'M'],\n",
        "        \"Name\": ['Cindy', 'Carl', 'Johnny', 'Stacey', 'Andy', 'Sara', 'Victor', 'Martha', 'Mindy', 'Max']\n",
        "    }\n",
        "\n",
        "    print(\"Original Data:\\n\")\n",
        "    for key, values in my_data.items():\n",
        "        print(f\"{key}: {values}\")\n",
        "\n",
        "    my_data, label_encoder = label_encode_categorical(my_data, 'Gender')\n",
        "\n",
        "    print(\"\\nUnique Labels:\", set(my_data['Gender']))\n",
        "    print(\"\\nData after Label Encoding:\\n\")\n",
        "    for key, values in my_data.items():\n",
        "        print(f\"{key}: {values}\")\n",
        "\n",
        "if __name__ == \"__main__\":\n",
        "    main()\n",
        "\n",
        "\n",
        "\n"
      ],
      "metadata": {
        "colab": {
          "base_uri": "https://localhost:8080/"
        },
        "id": "kn23x3stLOxc",
        "outputId": "e965a148-ca6f-4ad7-985f-db7ba8d83a49"
      },
      "execution_count": 27,
      "outputs": [
        {
          "output_type": "stream",
          "name": "stdout",
          "text": [
            "Original Data:\n",
            "\n",
            "Gender: ['F', 'M', 'M', 'F', 'M', 'F', 'M', 'F', 'F', 'M']\n",
            "Name: ['Cindy', 'Carl', 'Johnny', 'Stacey', 'Andy', 'Sara', 'Victor', 'Martha', 'Mindy', 'Max']\n",
            "\n",
            "Unique Labels: {0, 1}\n",
            "\n",
            "Data after Label Encoding:\n",
            "\n",
            "Gender: [0, 1, 1, 0, 1, 0, 1, 0, 0, 1]\n",
            "Name: ['Cindy', 'Carl', 'Johnny', 'Stacey', 'Andy', 'Sara', 'Victor', 'Martha', 'Mindy', 'Max']\n"
          ]
        }
      ]
    },
    {
      "cell_type": "code",
      "source": [
        "#Write a function to convert categorical variables to numeric using One-Hotencoding. Don’t use any existing functionalities.\n",
        "import pandas as pd\n",
        "\n",
        "def one_hot_encode_categorical(dataframe, column_name):\n",
        "    unique_categories = list(set(dataframe[column_name]))\n",
        "\n",
        "    for category in unique_categories:\n",
        "        new_column_name = f\"{column_name}_{category}\"\n",
        "        dataframe[new_column_name] = (dataframe[column_name] == category).astype(int)\n",
        "\n",
        "    dataframe = dataframe.drop(column_name, axis=1)\n",
        "\n",
        "    return dataframe\n",
        "\n",
        "my_data = {\n",
        "    'fruit_list': ['Apple', 'Banana', 'Orange', 'Grape', 'Kiwi'],\n",
        "    'quantity_list': [120, 85, 150, 50, 75],\n",
        "    'category': ['A', 'B', 'A', 'C', 'B']\n",
        "}\n",
        "\n",
        "blk = pd.DataFrame(my_data)\n",
        "\n",
        "print(\"Original DataFrame:\\n\")\n",
        "print(blk)\n",
        "\n",
        "blk = one_hot_encode_categorical(blk, 'category')\n",
        "\n",
        "print(\"\\nDataFrame after One-Hot Encoding:\\n\")\n",
        "print(blk)\n",
        "\n"
      ],
      "metadata": {
        "colab": {
          "base_uri": "https://localhost:8080/"
        },
        "id": "hka_JU7WQoyc",
        "outputId": "407a35b8-c78a-4660-c547-5748d71d189e"
      },
      "execution_count": 22,
      "outputs": [
        {
          "output_type": "stream",
          "name": "stdout",
          "text": [
            "Original DataFrame:\n",
            "\n",
            "  fruit_list  quantity_list category\n",
            "0      Apple            120        A\n",
            "1     Banana             85        B\n",
            "2     Orange            150        A\n",
            "3      Grape             50        C\n",
            "4       Kiwi             75        B\n",
            "\n",
            "DataFrame after One-Hot Encoding:\n",
            "\n",
            "  fruit_list  quantity_list  category_C  category_B  category_A\n",
            "0      Apple            120           0           0           1\n",
            "1     Banana             85           0           1           0\n",
            "2     Orange            150           0           0           1\n",
            "3      Grape             50           1           0           0\n",
            "4       Kiwi             75           0           1           0\n"
          ]
        }
      ]
    }
  ]
}